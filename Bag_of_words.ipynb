{
  "nbformat": 4,
  "nbformat_minor": 0,
  "metadata": {
    "colab": {
      "name": "Bag of words.ipynb",
      "provenance": [],
      "authorship_tag": "ABX9TyNzjBl3ZW+8mixJ0KvoD5cJ",
      "include_colab_link": true
    },
    "kernelspec": {
      "name": "python3",
      "display_name": "Python 3"
    },
    "language_info": {
      "name": "python"
    }
  },
  "cells": [
    {
      "cell_type": "markdown",
      "metadata": {
        "id": "view-in-github",
        "colab_type": "text"
      },
      "source": [
        "<a href=\"https://colab.research.google.com/github/jyotidabass/Bag-of-words/blob/main/Bag_of_words.ipynb\" target=\"_parent\"><img src=\"https://colab.research.google.com/assets/colab-badge.svg\" alt=\"Open In Colab\"/></a>"
      ]
    },
    {
      "cell_type": "code",
      "execution_count": 1,
      "metadata": {
        "colab": {
          "base_uri": "https://localhost:8080/"
        },
        "id": "bPKF_7ybOedo",
        "outputId": "bd11b2da-13a1-4b4b-8174-fbd9f93a5c18"
      },
      "outputs": [
        {
          "output_type": "stream",
          "name": "stdout",
          "text": [
            "['2021', '40', 'after', 'badminton', 'bronze', 'four', 'has', 'hockey', 'in', 'indian', 'is', 'lifting', 'medal', 'mirabai', 'olympics', 'silver', 'sindhu', 'team', 'tokyo', 'top', 'weight', 'won', 'years']\n",
            "{'mirabai': 13, 'has': 6, 'won': 21, 'silver': 15, 'medal': 12, 'in': 8, 'weight': 20, 'lifting': 11, 'tokyo': 18, 'olympics': 14, '2021': 0, 'sindhu': 16, 'bronze': 4, 'badminton': 3, 'indian': 9, 'hockey': 7, 'team': 17, 'is': 10, 'top': 19, 'four': 5, 'after': 2, '40': 1, 'years': 22}\n",
            "[[1 0 0 0 0 0 1 0 2 0 0 1 1 1 1 1 0 0 1 0 1 1 0]\n",
            " [0 0 0 1 1 0 1 0 2 0 0 0 1 0 1 0 1 0 1 0 0 1 0]\n",
            " [1 1 1 0 0 1 0 1 2 1 1 0 0 0 1 0 0 2 1 1 0 0 1]]\n"
          ]
        },
        {
          "output_type": "stream",
          "name": "stderr",
          "text": [
            "/usr/local/lib/python3.7/dist-packages/sklearn/utils/deprecation.py:87: FutureWarning: Function get_feature_names is deprecated; get_feature_names is deprecated in 1.0 and will be removed in 1.2. Please use get_feature_names_out instead.\n",
            "  warnings.warn(msg, category=FutureWarning)\n"
          ]
        }
      ],
      "source": [
        "import numpy as np\n",
        "from sklearn.feature_extraction.text import CountVectorizer\n",
        " \n",
        "vectorizer = CountVectorizer()\n",
        "#\n",
        "# Create sample set of documents\n",
        "#\n",
        "docs = np.array(['Mirabai has won a silver medal in weight lifting in Tokyo olympics 2021',\n",
        "                 'Sindhu has won a bronze medal in badminton in Tokyo olympics',\n",
        "                 'Indian hockey team is in top four team in Tokyo olympics 2021 after 40 years'])\n",
        "#\n",
        "# Fit the bag-of-words model\n",
        "#\n",
        "bag = vectorizer.fit_transform(docs)\n",
        "#\n",
        "# Get unique words / tokens found in all the documents. The unique words / tokens represents\n",
        "# the features\n",
        "#\n",
        "print(vectorizer.get_feature_names())\n",
        "#\n",
        "# Associate the indices with each unique word\n",
        "#\n",
        "print(vectorizer.vocabulary_)\n",
        "#\n",
        "# Print the numerical feature vector\n",
        "#\n",
        "print(bag.toarray())"
      ]
    }
  ]
}